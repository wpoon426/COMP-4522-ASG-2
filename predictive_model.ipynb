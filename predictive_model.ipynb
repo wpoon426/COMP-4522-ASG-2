{
 "cells": [
  {
   "cell_type": "code",
   "execution_count": 1,
   "metadata": {},
   "outputs": [
    {
     "name": "stdout",
     "output_type": "stream",
     "text": [
      "Student Performance:\n",
      "    Student_ID Semster_Name     Paper_ID Paper_Name  Marks  Effort_Hours\n",
      "0  SID20131143        Sem_1  SEMI0012995    Paper 1     44             5\n",
      "1  SID20131143        Sem_1  SEMI0014130    Paper 7     90            11\n",
      "2  SID20131143        Sem_1  SEMI0015183    Paper 2     74             8\n",
      "3  SID20131143        Sem_1  SEMI0015910    Paper 4     44             5\n",
      "4  SID20131143        Sem_1  SEMI0016208    Paper 5     95            12\n"
     ]
    },
    {
     "name": "stderr",
     "output_type": "stream",
     "text": [
      "/var/folders/g7/vq28k0zn3tl8zbf_zxqmkyvc0000gn/T/ipykernel_36159/344860131.py:19: UserWarning: pandas only supports SQLAlchemy connectable (engine/connection) or database string URI or sqlite3 DBAPI2 connection. Other DBAPI2 objects are not tested. Please consider using SQLAlchemy.\n",
      "  dataframe = pd.read_sql(query, conn)\n"
     ]
    }
   ],
   "source": [
    "# This is Import/Connection/Loading\n",
    "import mariadb\n",
    "import pandas as pd\n",
    "import numpy as np\n",
    "from sklearn.linear_model import LinearRegression\n",
    "\n",
    "# Connect to the database\n",
    "db = mariadb.connect(\n",
    "    host=\"127.0.0.1\",\n",
    "    port=3306,\n",
    "    user=\"fsnap\",\n",
    "    password=\"rosco\",\n",
    "    database=\"data\"\n",
    ")\n",
    "\n",
    "# Function to load tables into DataFrames\n",
    "def load_table_dataframe(table_name, conn):\n",
    "    query = f\"SELECT * FROM {table_name};\"\n",
    "    dataframe = pd.read_sql(query, conn)\n",
    "    return dataframe\n",
    "\n",
    "# Load tables into DataFrames\n",
    "department_df = load_table_dataframe(\"Department\", db)\n",
    "students_df = load_table_dataframe(\"Students\", db)\n",
    "performance_df = load_table_dataframe(\"Performance\", db)\n",
    "\n",
    "# Display head of performance data to verify data\n",
    "print(\"Student Performance:\")\n",
    "print(performance_df.head())\n"
   ]
  },
  {
   "cell_type": "code",
   "execution_count": 2,
   "metadata": {},
   "outputs": [],
   "source": [
    "#Step 1: Defining the student IDs and initalizing an empty list to store predictions.\n",
    "student_ids = ['SID20131151', 'SID20149500', 'SID20182516']\n",
    "predictions = []"
   ]
  },
  {
   "cell_type": "markdown",
   "metadata": {},
   "source": [
    "This step initalizes the list of student IDs we are interested in and an empty list where we will save predictions"
   ]
  },
  {
   "cell_type": "code",
   "execution_count": 3,
   "metadata": {},
   "outputs": [
    {
     "name": "stdout",
     "output_type": "stream",
     "text": [
      "Processed Student ID: SID20131151\n",
      "Processed Student ID: SID20149500\n",
      "Processed Student ID: SID20182516\n"
     ]
    },
    {
     "name": "stderr",
     "output_type": "stream",
     "text": [
      "/Library/Frameworks/Python.framework/Versions/3.12/lib/python3.12/site-packages/sklearn/base.py:493: UserWarning: X does not have valid feature names, but LinearRegression was fitted with feature names\n",
      "  warnings.warn(\n",
      "/Library/Frameworks/Python.framework/Versions/3.12/lib/python3.12/site-packages/sklearn/base.py:493: UserWarning: X does not have valid feature names, but LinearRegression was fitted with feature names\n",
      "  warnings.warn(\n",
      "/Library/Frameworks/Python.framework/Versions/3.12/lib/python3.12/site-packages/sklearn/base.py:493: UserWarning: X does not have valid feature names, but LinearRegression was fitted with feature names\n",
      "  warnings.warn(\n"
     ]
    }
   ],
   "source": [
    "#Step 2: Loop through each student and train a linear regression model on their data\n",
    "for student_id in student_ids:\n",
    "    #Filtering data for the specific students\n",
    "    student_data = performance_df[performance_df['Student_ID'] == student_id]\n",
    "\n",
    "    #checking to see if theres enough data to train the model aka more then 1 entry\n",
    "    if len(student_data) > 1:\n",
    "        #defining features (Effort_Hours) and target (marks) for model\n",
    "        x = student_data[['Effort_Hours']]\n",
    "        y = student_data['Marks']\n",
    "\n",
    "        # Initialize and train the linear regression model\n",
    "        model = LinearRegression()\n",
    "        model.fit(x, y)\n",
    "\n",
    "        #For each Student, we initialize and train a new linear regression model on that students specific data\n",
    "        #This model allows us to make a personalized prediction based on each students effort hours\n",
    "\n",
    "        #Step 3: predicting the scores for a 10-hour effort\n",
    "        predicted_score = model.predict(np.array([[10]]))[0]\n",
    "        \n",
    "        #retrieving department information for the student\n",
    "        department_info = students_df[students_df['Student_ID'] == student_id]['Department_Admission'].values[0]\n",
    "\n",
    "        #Append prediction results to the list\n",
    "        predictions.append({\n",
    "            'Student_ID': student_id,\n",
    "            'Predicted Score for 10hr Effort': round(predicted_score, 2),\n",
    "            'Department': department_info\n",
    "        })\n",
    "\n",
    "        print(f\"Processed Student ID: {student_id}\")\n",
    "\n",
    "        #After training, we can predict the score for a 10-hour effort specific to each student.\n",
    "        #We also retrieve and record the student's department information for display.\n",
    "\n",
    "\n",
    "    else:\n",
    "        print(f\"Not enough data to train model for Student ID: {student_id}\")"
   ]
  },
  {
   "cell_type": "markdown",
   "metadata": {},
   "source": [
    "For each student ID, we want to filter the performance data to isolate the records for the specific students. \n",
    "This ensures that we are only analyzing the individual student data for our predictions."
   ]
  },
  {
   "cell_type": "code",
   "execution_count": 4,
   "metadata": {},
   "outputs": [
    {
     "name": "stdout",
     "output_type": "stream",
     "text": [
      "\n",
      "Predicted Scores for 10 Hours of Effort:\n",
      "    Student_ID  Predicted Score for 10hr Effort Department\n",
      "0  SID20131151                            81.92  IDEPT6347\n",
      "1  SID20149500                            82.25  IDEPT4308\n",
      "2  SID20182516                            82.17  IDEPT3062\n"
     ]
    }
   ],
   "source": [
    "#Step 4: Converting predictions list to DataFrame for easier display to user\n",
    "predictions_df = pd.DataFrame(predictions)\n",
    "print(\"\\nPredicted Scores for 10 Hours of Effort:\")\n",
    "print(predictions_df)\n",
    "\n",
    "#Display the predictions in a structured DataFrame, showing predicted scores for each student based on 10 hours of effort.\n"
   ]
  }
 ],
 "metadata": {
  "kernelspec": {
   "display_name": "Python 3",
   "language": "python",
   "name": "python3"
  },
  "language_info": {
   "codemirror_mode": {
    "name": "ipython",
    "version": 3
   },
   "file_extension": ".py",
   "mimetype": "text/x-python",
   "name": "python",
   "nbconvert_exporter": "python",
   "pygments_lexer": "ipython3",
   "version": "3.12.6"
  }
 },
 "nbformat": 4,
 "nbformat_minor": 2
}
