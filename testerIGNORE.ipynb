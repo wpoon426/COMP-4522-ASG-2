{
 "cells": [
  {
   "cell_type": "code",
   "execution_count": 5,
   "metadata": {},
   "outputs": [],
   "source": [
    "import mariadb\n",
    "import pandas \n",
    "import matplotlib.pyplot as plt\n",
    "import numpy as np"
   ]
  },
  {
   "cell_type": "code",
   "execution_count": 6,
   "metadata": {},
   "outputs": [],
   "source": [
    "#connect to db\n",
    "db = mariadb.connect(\n",
    "    host = \"127.0.0.1\",\n",
    "    port = 3306,\n",
    "    user = \"fsnap\",\n",
    "    password = \"rosco\",\n",
    "    database = \"data\"\n",
    ")"
   ]
  },
  {
   "cell_type": "code",
   "execution_count": null,
   "metadata": {},
   "outputs": [
    {
     "name": "stderr",
     "output_type": "stream",
     "text": [
      "/var/folders/g7/vq28k0zn3tl8zbf_zxqmkyvc0000gn/T/ipykernel_42982/2928840118.py:4: UserWarning: pandas only supports SQLAlchemy connectable (engine/connection) or database string URI or sqlite3 DBAPI2 connection. Other DBAPI2 objects are not tested. Please consider using SQLAlchemy.\n",
      "  dataframe = pandas.read_sql(query, conn)\n"
     ]
    },
    {
     "name": "stdout",
     "output_type": "stream",
     "text": [
      "Department Info:\n",
      "  Department_ID                                    Department_Name        DOE\n",
      "0     IDEPT1096                               School of Management   3/7/2000\n",
      "1     IDEPT1142  Centre for Aerospace Systems Design and Engine...  7/25/1966\n",
      "2     IDEPT1367                               Computer Centre (CC)   4/5/2001\n",
      "3     IDEPT1378                           Industrial Design Centre  2/16/1993\n",
      "4     IDEPT1388                    Centre for Policy Studies (CPS)   1/5/1999\n",
      "\n",
      "Employee Information:\n",
      "  Employee_ID        DOB         DOJ Department_ID\n",
      "0    IU112687  6/18/1982    9/3/2012     IDEPT5127\n",
      "1    IU114595  8/20/1986  11/13/2001     IDEPT4055\n",
      "2    IU114836  3/24/1985   9/23/2007     IDEPT2601\n",
      "3    IU116135  1/10/1993   2/19/2002     IDEPT4055\n",
      "4    IU116424  11/5/1975   4/22/2005     IDEPT1423\n",
      "\n",
      "Student Council Info:\n",
      "    Student_ID       DOA        DOB Department_Choices Department_Admission\n",
      "0  SID20131143  7/1/2013   2/5/1996          IDEPT7783            IDEPT7783\n",
      "1  SID20131151  7/1/2013  7/31/1995          IDEPT6347            IDEPT6347\n",
      "2  SID20131171  7/1/2013   9/5/1995          IDEPT1836            IDEPT1836\n",
      "3  SID20131176  7/1/2013  1/12/1996          IDEPT8473            IDEPT8473\n",
      "4  SID20131177  7/1/2013  7/30/1995          IDEPT5528            IDEPT5528\n",
      "\n",
      "Student Performance:\n",
      "    Student_ID Semster_Name     Paper_ID Paper_Name  Marks  Effort_Hours\n",
      "0  SID20131143        Sem_1  SEMI0012995    Paper 1     44             5\n",
      "1  SID20131143        Sem_1  SEMI0014130    Paper 7     90            11\n",
      "2  SID20131143        Sem_1  SEMI0015183    Paper 2     74             8\n",
      "3  SID20131143        Sem_1  SEMI0015910    Paper 4     44             5\n",
      "4  SID20131143        Sem_1  SEMI0016208    Paper 5     95            12\n"
     ]
    }
   ],
   "source": [
    "#load a table into a DataFrame\n",
    "def load_table_dataframe(table_name, conn):\n",
    "    query = f\"SELECT * FROM {table_name};\"\n",
    "    dataframe = pandas.read_sql(query, conn)\n",
    "    return dataframe\n",
    "\n",
    "#Load tables into a variable\n",
    "department_df = load_table_dataframe(\"Department\", db)\n",
    "employee_df = load_table_dataframe(\"Employee\", db)\n",
    "students_df = load_table_dataframe(\"Students\", db)\n",
    "performance_df = load_table_dataframe(\"Performance\", db)\n",
    "\n",
    "#Display head to check\n",
    "print(\"Department Info:\")\n",
    "print(department_df.head())\n",
    "\n",
    "print(\"\\nEmployee Information:\")\n",
    "print(employee_df.head())\n",
    "\n",
    "print(\"\\nStudent Council Info:\")\n",
    "print(students_df.head())\n",
    "\n",
    "print(\"\\nStudent Performance:\")\n",
    "print(performance_df.head())"
   ]
  }
 ],
 "metadata": {
  "kernelspec": {
   "display_name": "Python 3",
   "language": "python",
   "name": "python3"
  },
  "language_info": {
   "codemirror_mode": {
    "name": "ipython",
    "version": 3
   },
   "file_extension": ".py",
   "mimetype": "text/x-python",
   "name": "python",
   "nbconvert_exporter": "python",
   "pygments_lexer": "ipython3",
   "version": "3.12.6"
  }
 },
 "nbformat": 4,
 "nbformat_minor": 2
}
